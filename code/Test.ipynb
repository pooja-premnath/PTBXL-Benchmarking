{
 "cells": [
  {
   "cell_type": "code",
   "execution_count": 2,
   "id": "d11f6517-d881-4e13-a0e2-6601fb40e7df",
   "metadata": {},
   "outputs": [
    {
     "name": "stdout",
     "output_type": "stream",
     "text": [
      "Sun Aug 25 20:25:37 2024       \n",
      "+-----------------------------------------------------------------------------------------+\n",
      "| NVIDIA-SMI 550.90.07              Driver Version: 550.90.07      CUDA Version: 12.4     |\n",
      "|-----------------------------------------+------------------------+----------------------+\n",
      "| GPU  Name                 Persistence-M | Bus-Id          Disp.A | Volatile Uncorr. ECC |\n",
      "| Fan  Temp   Perf          Pwr:Usage/Cap |           Memory-Usage | GPU-Util  Compute M. |\n",
      "|                                         |                        |               MIG M. |\n",
      "|=========================================+========================+======================|\n",
      "|   0  Tesla V100-SXM2-32GB           On  |   00000000:1A:00.0 Off |                    0 |\n",
      "| N/A   40C    P0             69W /  300W |    9332MiB /  32768MiB |      0%      Default |\n",
      "|                                         |                        |                  N/A |\n",
      "+-----------------------------------------+------------------------+----------------------+\n",
      "|   1  Tesla V100-SXM2-32GB           On  |   00000000:1B:00.0 Off |                    0 |\n",
      "| N/A   49C    P0             73W /  300W |   32154MiB /  32768MiB |     44%      Default |\n",
      "|                                         |                        |                  N/A |\n",
      "+-----------------------------------------+------------------------+----------------------+\n",
      "|   2  Tesla V100-SXM2-32GB           On  |   00000000:3D:00.0 Off |                    0 |\n",
      "| N/A   49C    P0            199W /  300W |   13758MiB /  32768MiB |     37%      Default |\n",
      "|                                         |                        |                  N/A |\n",
      "+-----------------------------------------+------------------------+----------------------+\n",
      "|   3  Tesla V100-SXM2-32GB           On  |   00000000:3E:00.0 Off |                    0 |\n",
      "| N/A   42C    P0             70W /  300W |   26726MiB /  32768MiB |      0%      Default |\n",
      "|                                         |                        |                  N/A |\n",
      "+-----------------------------------------+------------------------+----------------------+\n",
      "|   4  Tesla V100-SXM2-32GB           On  |   00000000:88:00.0 Off |                    0 |\n",
      "| N/A   41C    P0            257W /  300W |   22636MiB /  32768MiB |     40%      Default |\n",
      "|                                         |                        |                  N/A |\n",
      "+-----------------------------------------+------------------------+----------------------+\n",
      "|   5  Tesla V100-SXM2-32GB           On  |   00000000:89:00.0 Off |                    0 |\n",
      "| N/A   34C    P0             43W /  300W |       6MiB /  32768MiB |      0%      Default |\n",
      "|                                         |                        |                  N/A |\n",
      "+-----------------------------------------+------------------------+----------------------+\n",
      "|   6  Tesla V100-SXM2-32GB           On  |   00000000:B2:00.0 Off |                    0 |\n",
      "| N/A   40C    P0             70W /  300W |   25248MiB /  32768MiB |      0%      Default |\n",
      "|                                         |                        |                  N/A |\n",
      "+-----------------------------------------+------------------------+----------------------+\n",
      "|   7  Tesla V100-SXM2-32GB           On  |   00000000:B3:00.0 Off |                    0 |\n",
      "| N/A   37C    P0             66W /  300W |   16834MiB /  32768MiB |      0%      Default |\n",
      "|                                         |                        |                  N/A |\n",
      "+-----------------------------------------+------------------------+----------------------+\n",
      "                                                                                         \n",
      "+-----------------------------------------------------------------------------------------+\n",
      "| Processes:                                                                              |\n",
      "|  GPU   GI   CI        PID   Type   Process name                              GPU Memory |\n",
      "|        ID   ID                                                               Usage      |\n",
      "|=========================================================================================|\n",
      "|    0   N/A  N/A   3033710      C   python3                                      9324MiB |\n",
      "|    1   N/A  N/A   3031249      C   python3                                      9324MiB |\n",
      "|    1   N/A  N/A   3051530      C   python3                                      9324MiB |\n",
      "|    1   N/A  N/A   3057885      C   python3                                     13130MiB |\n",
      "|    1   N/A  N/A   4076153      C   python                                        370MiB |\n",
      "|    2   N/A  N/A   4119117      C   ...nda3/envs/physionet_2024/bin/python      13752MiB |\n",
      "|    3   N/A  N/A   4076153      C   python                                      13360MiB |\n",
      "|    3   N/A  N/A   4113005      C   ...nda3/envs/physionet_2024/bin/python      13360MiB |\n",
      "|    4   N/A  N/A   3027843      C   python3                                      9324MiB |\n",
      "|    4   N/A  N/A   3031249      C   python3                                       442MiB |\n",
      "|    4   N/A  N/A   3033710      C   python3                                       442MiB |\n",
      "|    4   N/A  N/A   3051530      C   python3                                       442MiB |\n",
      "|    4   N/A  N/A   3057885      C   python3                                       442MiB |\n",
      "|    4   N/A  N/A   3320999      C   python3                                      9990MiB |\n",
      "|    4   N/A  N/A   4076153      C   python                                        442MiB |\n",
      "|    4   N/A  N/A   4113005      C   ...nda3/envs/physionet_2024/bin/python        442MiB |\n",
      "|    4   N/A  N/A   4119117      C   ...nda3/envs/physionet_2024/bin/python        662MiB |\n",
      "|    6   N/A  N/A     88489      C   python                                       8414MiB |\n",
      "|    6   N/A  N/A     88503      C   python                                       8414MiB |\n",
      "|    6   N/A  N/A     88858      C   python                                       8414MiB |\n",
      "|    7   N/A  N/A     87759      C   python                                       8414MiB |\n",
      "|    7   N/A  N/A     87859      C   python                                       8414MiB |\n",
      "+-----------------------------------------------------------------------------------------+\n"
     ]
    }
   ],
   "source": [
    "!nvidia-smi"
   ]
  },
  {
   "cell_type": "code",
   "execution_count": null,
   "id": "b6eca81f-0730-4d5c-854b-3e22806be4a7",
   "metadata": {},
   "outputs": [],
   "source": []
  }
 ],
 "metadata": {
  "kernelspec": {
   "display_name": "Python 3 (ipykernel)",
   "language": "python",
   "name": "python3"
  },
  "language_info": {
   "codemirror_mode": {
    "name": "ipython",
    "version": 3
   },
   "file_extension": ".py",
   "mimetype": "text/x-python",
   "name": "python",
   "nbconvert_exporter": "python",
   "pygments_lexer": "ipython3",
   "version": "3.9.19"
  }
 },
 "nbformat": 4,
 "nbformat_minor": 5
}
